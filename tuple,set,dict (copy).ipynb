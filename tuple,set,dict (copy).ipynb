{
  "metadata": {
    "language_info": {
      "codemirror_mode": {
        "name": "python",
        "version": 3
      },
      "file_extension": ".py",
      "mimetype": "text/x-python",
      "name": "python",
      "nbconvert_exporter": "python",
      "pygments_lexer": "ipython3",
      "version": "3.8"
    },
    "kernelspec": {
      "name": "python",
      "display_name": "Python (Pyodide)",
      "language": "python"
    }
  },
  "nbformat_minor": 4,
  "nbformat": 4,
  "cells": [
    {
      "cell_type": "markdown",
      "source": "1.tuple is another seq data type. it is initiated by parenthesis. it is immutable and mostly used to store hetrogenous datatype.",
      "metadata": {}
    },
    {
      "cell_type": "code",
      "source": "t=(1,2,3)\nprint(type(t))\nprint(t.count(1))\nprint(t.index(1))\n'''tuple is imuutable and that's why only has limited methods as compared to mutable list'''",
      "metadata": {
        "trusted": true
      },
      "execution_count": 3,
      "outputs": [
        {
          "name": "stdout",
          "text": "<class 'tuple'>\n1\n0\n",
          "output_type": "stream"
        }
      ]
    },
    {
      "cell_type": "code",
      "source": "List = [1, 1, 1, 2, 1, 3, 1, 4, 2, 1, 2, 2, 2, 3, 2, 4, 3, 1, 3, 2, 3, 3, 3, 4, 4, 1, 4, 2, 4, 3, 4, 4]\nset(List)",
      "metadata": {
        "trusted": true
      },
      "execution_count": 4,
      "outputs": [
        {
          "execution_count": 4,
          "output_type": "execute_result",
          "data": {
            "text/plain": "{1, 2, 3, 4}"
          },
          "metadata": {}
        }
      ]
    },
    {
      "cell_type": "code",
      "source": "x={1,2,3}\ny={2,3,4}\nprint(y.union(x))#return the union of 2 set\nprint(y.update(x)) #add unique element of x in y\nprint(y)#modifed y by update\nprint(x)#unmodified coz only union took place i.e (a operation among set)",
      "metadata": {
        "trusted": true
      },
      "execution_count": 13,
      "outputs": [
        {
          "name": "stdout",
          "text": "{1, 2, 3, 4}\nNone\n{1, 2, 3, 4}\n{1, 2, 3}\n",
          "output_type": "stream"
        }
      ]
    },
    {
      "cell_type": "markdown",
      "source": "5.#dict() initiates dict a mapping data set which is ordered and under curly braces. unlike seq dat types where elemnts are indexed in dict elemnts are in the form of key value pair. each key is unique and immutable whereas value can be of mutable class.",
      "metadata": {}
    },
    {
      "cell_type": "code",
      "source": "dic={1:{'hey':222,'bye':333},}\nprint(dic)",
      "metadata": {
        "trusted": true
      },
      "execution_count": 15,
      "outputs": [
        {
          "name": "stdout",
          "text": "{1: {'hey': 222, 'bye': 333}}\n",
          "output_type": "stream"
        }
      ]
    },
    {
      "cell_type": "code",
      "source": "dict1 = {'language' : 'Python', 'course': 'Data Science Masters'}\ndict1.setdefault(\"topics\", ['Python', \"Machine Learning\" , \"Deep Learning\"])\nprint(dict1)",
      "metadata": {
        "trusted": true
      },
      "execution_count": 28,
      "outputs": [
        {
          "name": "stdout",
          "text": "{'language': 'Python', 'course': 'Data Science Masters', 'topics': ['Python', 'Machine Learning', 'Deep Learning']}\n",
          "output_type": "stream"
        }
      ]
    },
    {
      "cell_type": "code",
      "source": "dict1 = {'Sport': 'Cricket' , 'Teams': ['India', 'Australia', 'England', 'South Africa', 'Sri Lanka', 'New Zealand']}\ndict1.keys()\ndict1.items()\ndict1.values()",
      "metadata": {
        "trusted": true
      },
      "execution_count": 32,
      "outputs": [
        {
          "execution_count": 32,
          "output_type": "execute_result",
          "data": {
            "text/plain": "dict_values(['Cricket', ['India', 'Australia', 'England', 'South Africa', 'Sri Lanka', 'New Zealand']])"
          },
          "metadata": {}
        }
      ]
    },
    {
      "cell_type": "code",
      "source": "",
      "metadata": {},
      "execution_count": null,
      "outputs": []
    }
  ]
}