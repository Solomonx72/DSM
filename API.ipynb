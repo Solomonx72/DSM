{
 "cells": [
  {
   "cell_type": "markdown",
   "id": "c1277aed-d288-4368-8040-ba9ba8ebe4de",
   "metadata": {},
   "source": [
    "1. API stands for application programming interface. it serves as a communication medium between different applications (with diff frameworks). eg- google chrome is an api which connects client application to google servers"
   ]
  },
  {
   "cell_type": "markdown",
   "id": "7194bb80-8687-4a8b-b67e-1dd21c83e049",
   "metadata": {},
   "source": [
    "2. Advantages= speed (request and response), end-user friendly\n",
    "   Disadvantages = costly , security and learning curve "
   ]
  },
  {
   "cell_type": "markdown",
   "id": "db82531a-133b-4215-bda8-a1761cdcebfa",
   "metadata": {},
   "source": [
    "3.  4. A Web API is an application programming interface for the Web. web api only uses http whereas api uses tcp,smtp,http"
   ]
  },
  {
   "cell_type": "markdown",
   "id": "4793dcca-28a3-40b5-9695-35ba654c17bf",
   "metadata": {},
   "source": [
    "4&5. Rest stands for representational state transfer. it follows http and offers simplicity, scalability, flexibility on the other hand Soap stands for simple object acess protocol. it follows tcp or smtp. it is more secure and written in WSDL. soap can be difficult in terms of (simplicity,scalability,flexibility) as compared to rest."
   ]
  }
 ],
 "metadata": {
  "kernelspec": {
   "display_name": "Python 3 (ipykernel)",
   "language": "python",
   "name": "python3"
  },
  "language_info": {
   "codemirror_mode": {
    "name": "ipython",
    "version": 3
   },
   "file_extension": ".py",
   "mimetype": "text/x-python",
   "name": "python",
   "nbconvert_exporter": "python",
   "pygments_lexer": "ipython3",
   "version": "3.10.8"
  }
 },
 "nbformat": 4,
 "nbformat_minor": 5
}
