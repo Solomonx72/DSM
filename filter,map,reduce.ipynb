{
  "metadata": {
    "language_info": {
      "codemirror_mode": {
        "name": "python",
        "version": 3
      },
      "file_extension": ".py",
      "mimetype": "text/x-python",
      "name": "python",
      "nbconvert_exporter": "python",
      "pygments_lexer": "ipython3",
      "version": "3.8"
    },
    "kernelspec": {
      "name": "python",
      "display_name": "Python (Pyodide)",
      "language": "python"
    }
  },
  "nbformat_minor": 4,
  "nbformat": 4,
  "cells": [
    {
      "cell_type": "code",
      "source": "l=[('Sachin Tendulkar', 34357), ('Ricky Ponting', 27483), ('Jack Kallis', 25534), ('Virat Kohli', 24936)]\nl.sort(key=lambda x: x[1])\nprint(l)",
      "metadata": {
        "trusted": true
      },
      "execution_count": 8,
      "outputs": [
        {
          "name": "stdout",
          "text": "[('Virat Kohli', 24936), ('Jack Kallis', 25534), ('Ricky Ponting', 27483), ('Sachin Tendulkar', 34357)]\n",
          "output_type": "stream"
        }
      ]
    },
    {
      "cell_type": "code",
      "source": "l=[1, 2, 3, 4, 5, 6, 7, 8, 9, 10]\nlist(map(lambda x: x**2 , l ))",
      "metadata": {
        "trusted": true
      },
      "execution_count": 1,
      "outputs": [
        {
          "execution_count": 1,
          "output_type": "execute_result",
          "data": {
            "text/plain": "[1, 4, 9, 16, 25, 36, 49, 64, 81, 100]"
          },
          "metadata": {}
        }
      ]
    },
    {
      "cell_type": "code",
      "source": "l= [1, 2, 3, 4, 5, 6, 7, 8, 9, 10]\ntuple(map(lambda x: str(x) , l))",
      "metadata": {
        "trusted": true
      },
      "execution_count": 2,
      "outputs": [
        {
          "execution_count": 2,
          "output_type": "execute_result",
          "data": {
            "text/plain": "('1', '2', '3', '4', '5', '6', '7', '8', '9', '10')"
          },
          "metadata": {}
        }
      ]
    },
    {
      "cell_type": "code",
      "source": "l=[]\nfor i in range(25):\n    l.append(i+1)\nprint(l)\nfrom functools import reduce\nreduce(lambda x,y:x*y , l)",
      "metadata": {
        "trusted": true
      },
      "execution_count": 11,
      "outputs": [
        {
          "name": "stdout",
          "text": "[1, 2, 3, 4, 5, 6, 7, 8, 9, 10, 11, 12, 13, 14, 15, 16, 17, 18, 19, 20, 21, 22, 23, 24, 25]\n",
          "output_type": "stream"
        },
        {
          "execution_count": 11,
          "output_type": "execute_result",
          "data": {
            "text/plain": "15511210043330985984000000"
          },
          "metadata": {}
        }
      ]
    },
    {
      "cell_type": "code",
      "source": "l=[2, 3, 6, 9, 27, 60, 90, 120, 55, 46]\nlist(filter(lambda x: x if x%2==0 and x%3==0 else 0, l))",
      "metadata": {
        "trusted": true
      },
      "execution_count": 20,
      "outputs": [
        {
          "execution_count": 20,
          "output_type": "execute_result",
          "data": {
            "text/plain": "[6, 60, 90, 120]"
          },
          "metadata": {}
        }
      ]
    },
    {
      "cell_type": "code",
      "source": "l=['python', 'php', 'aba', 'radar', 'level']\nlist(filter(lambda x: x if x[:]==x[::-1] else 0,l))",
      "metadata": {
        "trusted": true
      },
      "execution_count": 26,
      "outputs": [
        {
          "execution_count": 26,
          "output_type": "execute_result",
          "data": {
            "text/plain": "['php', 'aba', 'radar', 'level']"
          },
          "metadata": {}
        }
      ]
    }
  ]
}
